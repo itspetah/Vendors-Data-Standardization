{
 "cells": [
  {
   "cell_type": "code",
   "execution_count": 495,
   "id": "52318cc1-1463-4d16-aaef-22d0682dbc70",
   "metadata": {
    "tags": []
   },
   "outputs": [],
   "source": [
    "import pandas as pd\n",
    "import numpy as np"
   ]
  },
  {
   "cell_type": "code",
   "execution_count": 496,
   "id": "7c90189b-ba84-4225-b2eb-01ab46fd5a06",
   "metadata": {
    "tags": []
   },
   "outputs": [],
   "source": [
    "first_df = pd.read_excel('YEAR TO DATE INESGTION.xlsx')"
   ]
  },
  {
   "cell_type": "code",
   "execution_count": 497,
   "id": "9eac9ebe-80f6-4a1f-bb6a-8d3ff3acc89a",
   "metadata": {
    "tags": []
   },
   "outputs": [
    {
     "name": "stderr",
     "output_type": "stream",
     "text": [
      "C:\\Users\\ARORASE\\AppData\\Local\\Temp\\ipykernel_17912\\1713777754.py:1: SettingWithCopyWarning: \n",
      "A value is trying to be set on a copy of a slice from a DataFrame\n",
      "\n",
      "See the caveats in the documentation: https://pandas.pydata.org/pandas-docs/stable/user_guide/indexing.html#returning-a-view-versus-a-copy\n",
      "  first_df[['CorrosionFoundOnCdCustomer', 'CorrosionLocationsCdCustomer','ImproperConditionsFoundCustomer','AccessibleConEd','NoAccessReasonCdConed','POESleeveLocationCd','InspDoneOnAllSvcsEnteringBldg','ImproperConditionsFoundConEd','CorrosionSeverityCdConEd','CorrosionFoundOnConEdRemarks','CorrosionLocationsCdConEd','PoeAccessible','PoeNoAccessReasonCd','PoeFoundSealedCondition','PoeSealTypeCd']].replace('0','',inplace=True)\n"
     ]
    }
   ],
   "source": [
    "first_df[['CorrosionFoundOnCdCustomer', 'CorrosionLocationsCdCustomer','ImproperConditionsFoundCustomer','AccessibleConEd','NoAccessReasonCdConed','POESleeveLocationCd','InspDoneOnAllSvcsEnteringBldg','ImproperConditionsFoundConEd','CorrosionSeverityCdConEd','CorrosionFoundOnConEdRemarks','CorrosionLocationsCdConEd','PoeAccessible','PoeNoAccessReasonCd','PoeFoundSealedCondition','PoeSealTypeCd']].replace('0','',inplace=True)"
   ]
  },
  {
   "cell_type": "code",
   "execution_count": 498,
   "id": "efdd8f8b-8d3a-4748-8bd3-90cad7018caa",
   "metadata": {
    "tags": []
   },
   "outputs": [],
   "source": [
    "first_df.to_excel('trialfile.xlsx')"
   ]
  },
  {
   "cell_type": "code",
   "execution_count": 481,
   "id": "83327000-5cb8-458b-a3fa-badaac6756e5",
   "metadata": {
    "tags": []
   },
   "outputs": [],
   "source": [
    "first_df.iloc[:,1:] = first_df.iloc[:,1:].applymap(lambda x:x.upper() if isinstance(x,str) else x)"
   ]
  },
  {
   "cell_type": "code",
   "execution_count": 482,
   "id": "6c2b4b2d-dcdb-4706-9449-29beff4f7170",
   "metadata": {
    "tags": []
   },
   "outputs": [],
   "source": [
    "mapping_df = pd.read_excel('mapping2.xlsx')"
   ]
  },
  {
   "cell_type": "code",
   "execution_count": 483,
   "id": "0e8f0a69-696b-43f1-9063-0c2d04828b07",
   "metadata": {
    "tags": []
   },
   "outputs": [],
   "source": [
    "first_df['MeterLocationAtmosphere'] = first_df['MeterLocationAtmosphere'].str.split(';').str[0]"
   ]
  },
  {
   "cell_type": "code",
   "execution_count": 484,
   "id": "6993fbb2-2c01-47b4-8c1e-2e014cdf417e",
   "metadata": {
    "tags": []
   },
   "outputs": [],
   "source": [
    "first_df['MeterLocationAtmosphere'] = first_df['MeterLocationAtmosphere'].str.split(',').str[0]"
   ]
  },
  {
   "cell_type": "code",
   "execution_count": 485,
   "id": "e60cb1b2-5d9b-41e2-a7b4-bb372bb624aa",
   "metadata": {
    "tags": []
   },
   "outputs": [],
   "source": [
    "mapping_dict = mapping_df.set_index('normalized name')['column name'].to_dict()"
   ]
  },
  {
   "cell_type": "code",
   "execution_count": 486,
   "id": "929b125f-ae06-465c-ac65-af7fe8458b6f",
   "metadata": {
    "tags": []
   },
   "outputs": [],
   "source": [
    "default_values_dict = mapping_df.set_index('normalized name')['default value'].apply(lambda x: x.split(',') if isinstance(x, str) else x).to_dict()"
   ]
  },
  {
   "cell_type": "code",
   "execution_count": 487,
   "id": "daec72ec-a1e2-41de-b1ba-dad29a1b8ac4",
   "metadata": {
    "tags": []
   },
   "outputs": [],
   "source": [
    "new_df = pd.read_excel('SLI_Template.xlsx')"
   ]
  },
  {
   "cell_type": "code",
   "execution_count": 488,
   "id": "6d130749-bca5-4cfb-b2df-a8780f57e54d",
   "metadata": {
    "tags": []
   },
   "outputs": [],
   "source": [
    "new_df = pd.DataFrame(columns = new_df.columns)"
   ]
  },
  {
   "cell_type": "code",
   "execution_count": 489,
   "id": "3b5b9a8d-f8aa-40a3-bceb-09b23e263bc3",
   "metadata": {
    "tags": []
   },
   "outputs": [],
   "source": [
    "mapping_dict = mapping_df.set_index('normalized name')['column name'].to_dict()"
   ]
  },
  {
   "cell_type": "code",
   "execution_count": 490,
   "id": "b32942f8-e7f1-4c07-b8c5-b5a76cf40ed1",
   "metadata": {
    "tags": []
   },
   "outputs": [],
   "source": [
    "#default_values_dict = mapping_df.set_index('normalized name')['default value'].apply(lambda x: x.split(',') if isinstance(x, str) else x).to_dict()"
   ]
  },
  {
   "cell_type": "code",
   "execution_count": 491,
   "id": "4dc863b8-5a12-47bf-8d6b-77962a2a69a2",
   "metadata": {
    "tags": []
   },
   "outputs": [],
   "source": [
    "#new_df = pd.DataFrame(columns = new_df.columns)"
   ]
  },
  {
   "cell_type": "code",
   "execution_count": 492,
   "id": "a387725c-26e4-4887-9e81-33b160520b03",
   "metadata": {
    "tags": []
   },
   "outputs": [],
   "source": [
    "for column in new_df.columns:\n",
    "    if column in mapping_dict and mapping_dict[column] in first_df.columns:\n",
    "        column_name = mapping_dict[column]\n",
    "        new_df[column] = first_df[column_name]\n",
    "        #new_df[column] = first_df[column_name].where(first_df['Is the building accessible?']!='NO')\n",
    "    else:\n",
    "        new_df[column]=new_df[column]"
   ]
  },
  {
   "cell_type": "code",
   "execution_count": 493,
   "id": "ebdf0f9e-9d55-4633-abcc-d77acc37d8cd",
   "metadata": {
    "tags": []
   },
   "outputs": [],
   "source": [
    "new_df['BuildingAccessible'] = new_df['BuildingAccessible'].fillna('YES')\n",
    "new_df['OutsideSet'] = new_df['OutsideSet'].fillna('NO')\n",
    "new_df['PressureRegulatorInBuilding'] = new_df['PressureRegulatorInBuilding'].fillna('YES')\n",
    "new_df['TypeOfDwellingCd'] = new_df['TypeOfDwellingCd'].fillna('SINGLE')\n",
    "new_df['MeterLocation'] = new_df['MeterLocation'].fillna('BASEMENT')\n",
    "new_df['MeterLocationAtmosphere'] = new_df['MeterLocationAtmosphere'].fillna('METERROOM')\n",
    "new_df['PipingConstructionMaterialCd'] = new_df['PipingConstructionMaterialCd'].fillna('METALLICBARE')\n",
    "new_df['MeterConstructionMaterialCd'] = new_df['MeterConstructionMaterialCd'].fillna('METALLICBARE')\n",
    "new_df['FittingsConstructionMaterialCd'] = new_df['FittingsConstructionMaterialCd'].fillna('METALLICBARE')\n",
    "new_df['MainAndBranchService'] = new_df['MainAndBranchService'].fillna('YES')\n",
    "new_df['NoAccessReasonCdBuilding'] = new_df['NoAccessReasonCdBuilding'].fillna('OTHER')\n",
    "new_df['ServiceUnderStoop'] = new_df['ServiceUnderStoop'].fillna('YES')\n",
    "new_df['AccessibleCustomer'] = new_df['AccessibleCustomer'].fillna('YES')\n",
    "new_df['NoAccessReasonCdCustomer'] = new_df['NoAccessReasonCdCustomer'].fillna('DIDNOTATTEMPT')\n",
    "new_df['CorrosionSeverityCdCustomer'] = new_df['CorrosionSeverityCdCustomer'].fillna('NONE')\n",
    "new_df['CorrosionLocationsCdCustomer'] = new_df['CorrosionLocationsCdCustomer'].fillna('NONE')\n",
    "new_df['CtagEquipmentCd'] = new_df['CtagEquipmentCd'].fillna('OES')\n",
    "new_df['HeadOfServiceValveNotAccessibleHeight'] = new_df['HeadOfServiceValveNotAccessibleHeight'].fillna('NO')\n",
    "new_df['GasTurnedOff'] = new_df['GasTurnedOff'].fillna('NO')\n",
    "new_df['AllServicePipingInspected'] = new_df['AllServicePipingInspected'].fillna('YES')\n",
    "new_df['CorrosionFoundOnCdCustomer'] = new_df['CorrosionFoundOnCdCustomer'].fillna('OTHER')\n",
    "new_df['ImproperConditionsFoundCustomer'] = new_df['ImproperConditionsFoundCustomer'].fillna('NO')\n",
    "new_df['DamagedGasMeterCustomerCd'] = new_df['DamagedGasMeterCustomerCd'].fillna('OTHER')\n",
    "new_df['InappropriateFlexibleConnectorCds'] = new_df['InappropriateFlexibleConnectorCds'].fillna('THROUGH_WALL')\n",
    "new_df['AccessibleConEd'] = new_df['AccessibleConEd'].fillna('YES')\n",
    "new_df['NoAccessReasonCdConed'] = new_df['NoAccessReasonCdConed'].fillna('DIDNOTATTEMPT')\n",
    "new_df['POESleeveLocationCd'] = new_df['POESleeveLocationCd'].fillna('OTHER')\n",
    "new_df['InspDoneOnAllSvcsEnteringBldg'] = new_df['InspDoneOnAllSvcsEnteringBldg'].fillna('YES')\n",
    "new_df['ImproperConditionsFoundConEd'] = new_df['ImproperConditionsFoundConEd'].fillna('NO')\n",
    "new_df['ImproperSubstandardConditionConEdCds'] = new_df['ImproperSubstandardConditionConEdCds'].fillna('OTHER')\n",
    "new_df['DamagedGasMeterConEdCd'] = new_df['DamagedGasMeterConEdCd'].fillna('OTHER')\n",
    "new_df['UnauthorizedMetersFound'] = new_df['UnauthorizedMetersFound'].fillna('NO')\n",
    "new_df['SupervisorNotified'] = new_df['SupervisorNotified'].fillna('YES')\n",
    "new_df['PlasticExposed'] = new_df['PlasticExposed'].fillna('NO')\n",
    "new_df['PlasticExtendsIntoStructure24Inches'] = new_df['PlasticExtendsIntoStructure24Inches'].fillna('YES')\n",
    "new_df['CorrosionSeverityCdConEd'] = new_df['CorrosionSeverityCdConEd'].fillna('NONE')\n",
    "new_df['CorrosionFoundOnCdConEd'] = new_df['CorrosionFoundOnCdConEd'].fillna('OTHER')\n",
    "new_df['CorrosionLocationsCdConEd'] = new_df['CorrosionLocationsCdConEd'].fillna('OTHER')\n",
    "new_df['NGDRemovedReasonCd'] = new_df['NGDRemovedReasonCd'].fillna('OTHER')\n",
    "new_df['PoeAccessible'] = new_df['PoeAccessible'].fillna('YES')\n",
    "new_df['PoeNoAccessReasonCd'] = new_df['PoeNoAccessReasonCd'].fillna('OTHER')\n",
    "new_df['PoeFoundSealedCondition'] = new_df['PoeFoundSealedCondition'].fillna('NO')\n",
    "new_df['PoeLeftSealedCondition'] = new_df['PoeLeftSealedCondition'].fillna('NO')\n",
    "new_df['PoeSealTypeCd'] = new_df['PoeSealTypeCd'].fillna('OTHER')\n",
    "new_df['GasOdorPresent'] = new_df['GasOdorPresent'].fillna('NO')\n",
    "new_df['GasLeakCorrosionRelated'] = new_df['GasLeakCorrosionRelated'].fillna('NO')\n",
    "new_df['LeakItemCd'] = new_df['LeakItemCd'].fillna('OTHER')"
   ]
  },
  {
   "cell_type": "code",
   "execution_count": 494,
   "id": "471b9e3f-be45-48f5-bf34-79c8aebce6a5",
   "metadata": {
    "tags": []
   },
   "outputs": [
    {
     "name": "stderr",
     "output_type": "stream",
     "text": [
      "C:\\Users\\ARORASE\\AppData\\Local\\Temp\\ipykernel_17912\\951627210.py:218: UserWarning: Boolean Series key will be reindexed to match DataFrame index.\n",
      "  new_df = new_df[first_df['BuildingAccessible']!='NO']\n"
     ]
    }
   ],
   "source": [
    "value_mapping = {\n",
    "    'OutsideSet':{\n",
    "    'METERSET INSIDE':'NO',\n",
    "    },\n",
    "    \n",
    "    'TypeOfDwellingCd':{\n",
    "        'SINGLE UNIT DWELLING':'SINGLE',\n",
    "        'COMMERCIAL':'COMMERCIAL',\n",
    "        'MULTIUNIT': 'MULTIUNIT',\n",
    "        'MULTI-UNIT RESIDENCE/DWEL':'MULTIUNIT',\n",
    "        'INDUSTRIAL':'INDUSTRIAL',\n",
    "        'SINGLE':'SINGLE',\n",
    "    },\n",
    "    'MeterLocation':{\n",
    "        'BASEMENT':'BASEMENT',\n",
    "        'METER ROOM':'METERROOM',\n",
    "        'meterroom':'METERROOM',\n",
    "        # 'METER AT/NEAR POE':'',\n",
    "        'METERPOE':'METERPOE',\n",
    "        # 'METERSREMOTE':'',\n",
    "        # 'ROOMSET':'',\n",
    "    },\n",
    "    'MeterLocationAtmosphere':{\n",
    "        # 'METER AT/NEAR POE;':'METERPOE',\n",
    "        # 'BELOW GRADE;':'BELOWGRADE',\n",
    "        # 'AIR CONDITIONING SPACE;':'ACSPACE',\n",
    "        # 'CLOSED TO THE OUTSIDE;':'CLOSED',\n",
    "        # 'HEATED SPACE;':'HEATSPACE',\n",
    "        # 'ROOM SET;':'ROOMSET',\n",
    "        # 'VENTED TO THE OUTSIDE;':'VENTED',\n",
    "        # 'METER ROOM;':'METERROOM',\n",
    "        'BELOW GRADE':'BELOWGRADE',\n",
    "        'HEATED SPACE':'HEATSPACE',\n",
    "        'CLOSED TO THE OUTSIDE':'CLOSED',\n",
    "        'METER AT/NEAR POE':'METERPOE',\n",
    "        'ROOM SET':'ROOMSET',\n",
    "        'VENTED TO THE OUTSIDE':'VENTED',\n",
    "        'METER ROOM':'METERROOM',\n",
    "        'AIR CONDITIONING SPACE;':'ACSPACE',\n",
    "        \n",
    "    },\n",
    "    'PipingConstructionMaterialCd':{\n",
    "        # 'METALLIC BARE':'METALLICBARE',\n",
    "        # 'METALLIC COATED/PAINTED':'METALLICCOAT',\n",
    "        'METALLICBARE':'METALLICBARE',\n",
    "        'METALLICCOAT':'METALLICCOAT',\n",
    "    },\n",
    "    'MeterConstructionMaterialCd':{\n",
    "        'METALLICBARE':'METALLICBARE',\n",
    "        'METALLICCOAT':'METALLICCOAT',\n",
    "        'METALLIC BARE':'METALLICBARE',\n",
    "        'METALLIC COATED/PAINTED':'METALLICCOAT',\n",
    "    },\n",
    "    'FittingsConstructionMaterialCd':{\n",
    "        # 'METALLIC BARE':'METALLICBARE',\n",
    "        # 'METALLIC COATED/PAINTED':'METALLICCOAT',\n",
    "        'METALLICBARE':'METALLICBARE',\n",
    "        'METALLICCOAT':'METALLICCOAT',\n",
    "    },\n",
    "    'MainAndBranchService':{\n",
    "        'YES':'YES',\n",
    "        'NOT AVAILABLE':'NO',\n",
    "        'NO':'NO'\n",
    "    },\n",
    "    'NoAccessReasonCdBuilding':{\n",
    "        'ACCESS DENIED COVID':'CORONAVIRUS',\n",
    "        'ADRESS DOES NOT EXIST':'ADDRESSNOTEXIST',\n",
    "        'BUILDING QUARANTINED':'QUARANTINED',\n",
    "        'CATS REMARK':'CATS',\n",
    "        'CUST FAILED KEEP APT':'CUSTFAILAPPT',\n",
    "        'CUST NOT AT HOME':'CUSTNOTHOME',\n",
    "    },\n",
    "    'NoAccessReasonCdCustomer':{\n",
    "        'CATS':'CATS',\n",
    "        'CUSTFAILAPPT':'CUSTFAILAPPT',\n",
    "        'CUSTNOTHOME':'CUSTNOTHOME',\n",
    "        'DID NOT ATTEMPT':'DIDNOTATTEMPT',\n",
    "        'CORONAVIRUS':'CORONAVIRUS',\n",
    "        'ADDRESSNOTEXIST':'ADDRESSNOTEXIST',\n",
    "        'QUARANTINED':'QUARANTINED',\n",
    "    },\n",
    "    'CorrosionSeverityCdCustomer':{\n",
    "        '1-NO CORROSION SEVERITY':'NONE',\n",
    "        '2-LOW CORROSION SEVERITY':'LOW',\n",
    "        '3-MEDIUM CORROSION SEVERITY':'MEDIUM',\n",
    "    },\n",
    "    \n",
    "    'CorrosionLocationsCdCustomer':{\n",
    "        'BASEMENT;':'BASEMENT',\n",
    "        'NONE;':'NONE',\n",
    "        'APARTMENT ;':'APARTMENT',\n",
    "        'GARAGE;':'GARAGE',\n",
    "        'HALLWAY;':'HALLWAY',\n",
    "        'UNDER STAIRS;':'UNDER_STAIRS',\n",
    "        'VAULT;':'VAULT',\n",
    "        'NONE;':'NONE',\n",
    "    },\n",
    "          \n",
    "        \n",
    "    'CtagEquipmentCd':{\n",
    "        'Other':'O',\n",
    "        'EXTENSION OF SERVICE':'OES',\n",
    "    },\n",
    "    'CorrosionFoundOnCdCustomer':{\n",
    "        'HOUSE PIPE':'HOUSE_PIPE',\n",
    "        'CUSTOMER PIPE':'OTHER',\n",
    "        'GAS CARRIER PIPE':'OTHER',\n",
    "        'NONE':'NONE',\n",
    "    },\n",
    "    'DamagedGasMeterCustomerCd':{\n",
    "        'BENT GAS PIPING':'BENT_GAS_PIPING',\n",
    "    },\n",
    "    'NoAccessReasonCdConed':{\n",
    "        'Access Denied - COVID':'CORONAVIRUS',\n",
    "        'Address Does Not Exist':'ADDRESSNOTEXIST',\n",
    "        'CATS Remark':'CATS',\n",
    "        'Customer failed to keep appt ':'CUSTFAILAPPT',\n",
    "        'Customer Not Home':'CUSTNOTHOME',\n",
    "        'did not Attempt':'DIDNOTATTEMPT',\n",
    "    },\n",
    "    'POESleeveLocationCd':{\n",
    "        'UNDER STAIRS':'UNDER_STAIRS',\n",
    "    },\n",
    "    \n",
    "    'GasOdorPresent':{\n",
    "        'Yes (Call GERC)':'YES',\n",
    "    },\n",
    "        \n",
    "    'ImproperSubstandardConditionConEdCds':{\n",
    "        'Improper inside meter location': 'INSIDE_MTR_LOC_IMPR',\n",
    "        'Inaccessible meter sets':'OTHER',\n",
    "        'Inappropriate or substandard parts or materials':'PART_MATERIAL',\n",
    "        ' Jurisdictional pipe not installed to utility specifications':'JURISDICTION_PIPING',\n",
    "        'Meter set(s) without sufficient support':'OTHER',\n",
    "        'Meter sets in a hot or humid environment':'OTHER',\n",
    "        'Meter sets in an environment where they are in danger of damage from falling items around them':'DAMAGE_GAS_METER',\n",
    "        'Meter sets without access to shut-off valves':'NO_SHUTOFF_VALVE',\n",
    "        ' No regulator vent terminus':'REGULATOR_VENT_GAS',\n",
    "        'Structures over a gas facility':'GAS_FCLTY_DEPTH_INCO',\n",
    "    },\n",
    "    'DamagedGasMeterConEdCd':{\n",
    "        'BENT_GAS_PIPING':'BENT_GAS_PIPING',\n",
    "    },\n",
    "    'CorrosionSeverityCdConEd':{\n",
    "        '1-NO CORROSION SEVERITY':'NONE',\n",
    "        '2-LOW CORROSION SEVERITY':'LOW',\n",
    "        '3-MEDIUM CORROSION SEVERITY':'MEDIUM',\n",
    "    },\n",
    "    'CorrosionFoundOnCdConEd':{\n",
    "        'EXTENSION':'OTHER',\n",
    "        'HOUSE PIPE':'OTHER',\n",
    "        'SERVICE HEAD ADAPTER':'SERVICE_HEAD_ADAPTER',\n",
    "    },\n",
    "    'CorrosionLocationsCdConEd':{\n",
    "        'APARTMENT ;':'APARTMENT',\n",
    "        'BASEMENT;':'BASEMENT',\n",
    "        'GARAGE;':'GARAGE',\n",
    "        'HALLWAY;':'HALLWAY',\n",
    "        'NONE;':'NONE',\n",
    "        'UNDER STAIRS;':'UNDER_STAIRS',\n",
    "        'VAULT;':'VAULT',\n",
    "    },\n",
    "    'PoeNoAccessReasonCd':{\n",
    "        'ACCESS NOT REQUIRED':'ACCESS_NOT_REQUIRED',\n",
    "        'AOC CONDITION':'OTHER',\n",
    "        'CUST REFUSED ACCESS':'CUST_REFUSED_ACCESS',\n",
    "        'NO ACCESS':'NO_ACCESS',\n",
    "    },\n",
    "    'LeakItemCd':{\n",
    "        'METER;':'METER',\n",
    "        'VALVE;':'VALVE',\n",
    "        'REGULATOR;METER;':'REGULATOR',\n",
    "        'FITTING THREADS;':'FITTINGTHREAD',\n",
    "        'FITTING (ELBOW, TEE, ETC.);':'FITTING',\n",
    "    }\n",
    "}\n",
    "\n",
    "TypeOfDwellingCd_map = value_mapping.get('TypeOfDwellingCd',{})\n",
    "#working - new_df['TypeOfDwellingCd'] = new_df['TypeOfDwellingCd'].apply(lambda x:TypeOfDwellingCd_map.get(x,'OTHER') if x and pd.notna(x) else 'SINGLE')\n",
    "new_df['TypeOfDwellingCd'] = new_df['TypeOfDwellingCd'].apply(lambda x:'SINGLE' if 'single' in x.lower() else TypeOfDwellingCd_map.get(x,'OTHER') if x and pd.notna(x) else 'SINGLE')\n",
    "\n",
    "new_df['TypeOfDwellingRemarks'] = new_df.apply(lambda row:'INGESTION' if row['TypeOfDwellingCd'] == 'OTHER' else '', axis=1)\n",
    "\n",
    "MeterLocation_map = value_mapping.get('MeterLocation',{})\n",
    "new_df['MeterLocation'] = new_df['MeterLocation'].apply(lambda x:'BASEMENT' if 'basement' in x.lower() else 'HALLWAY' if 'hallway' in x.lower() else 'GARAGE' if 'garage' in x.lower() else 'METERPOE' if 'poe' in x.lower() else 'METERREMOTE' if 'remote' in x.lower() else MeterLocation_map.get(x,'OTHER') if x and pd.notna(x) else 'BASEMENT')\n",
    "\n",
    "CorrosionSeverityCdCustomer_map = value_mapping.get('CorrosionSeverityCdCustomer',{})\n",
    "new_df['CorrosionSeverityCdCustomer'] = new_df['CorrosionSeverityCdCustomer'].apply(lambda x:'LOW' if 'low' in x.lower() else 'MEDIUM' if 'medium' in x.lower() else 'HIGH' if 'high' in x.lower() else 'NONE')\n",
    "\n",
    "CtagEquipmentCd_map = value_mapping.get('CtagEquipmentCd',{})\n",
    "new_df['CtagEquipmentCd'] = new_df.apply(lambda row:row['CtagEquipmentCd'] if row['CorrosionSeverityCdCustomer'] in ['MEDIUM','HIGH'] else '', axis=1)\n",
    "\n",
    "PipingConstructionMaterialCd_map = value_mapping.get('PipingConstructionMaterialCd',{})\n",
    "new_df['PipingConstructionMaterialCd'] = new_df['PipingConstructionMaterialCd'].apply(lambda x: PipingConstructionMaterialCd_map.get(x,'OTHER') if x and pd.notna(x) else 'METALLICBARE')\n",
    "\n",
    "MeterConstructionMaterialCd_map = value_mapping.get('MeterConstructionMaterialCd',{})\n",
    "new_df['MeterConstructionMaterialCd'] = new_df['MeterConstructionMaterialCd'].apply(lambda x: MeterConstructionMaterialCd_map.get(x,'OTHER') if x and pd.notna(x) else 'METALLICBARE')\n",
    "\n",
    "FittingsConstructionMaterialCd_map = value_mapping.get('FittingsConstructionMaterialCd',{})\n",
    "new_df['FittingsConstructionMaterialCd'] = new_df['FittingsConstructionMaterialCd'].apply(lambda x: FittingsConstructionMaterialCd_map.get(x,'OTHER') if x and pd.notna(x) else 'METALLICBARE')\n",
    "\n",
    "MainAndBranchService_map = value_mapping.get('MainAndBranchService',{})\n",
    "new_df['MainAndBranchService'] = new_df['MainAndBranchService'].apply(lambda x: MainAndBranchService_map.get(x,'OTHER') if x and pd.notna(x) else 'YES')\n",
    "\n",
    "MainAndBranchService_map = value_mapping.get('MainAndBranchService',{})\n",
    "new_df['MainAndBranchService'] = new_df['MainAndBranchService'].apply(lambda x: MainAndBranchService_map.get(x,'OTHER') if x and pd.notna(x) else 'YES')\n",
    "\n",
    "new_df['NoOfMeters'] = new_df.apply(lambda row: 1 if row['TypeOfDwellingCd'] == 'SINGLE' else row['NoOfMeters'], axis=1)\n",
    "\n",
    "new_df['NoOfApartments'] = new_df.apply(lambda row:'' if row['TypeOfDwellingCd'] == 'SINGLE' else row['NoOfApartments'], axis=1)\n",
    "\n",
    "for column, mapping in value_mapping.items():\n",
    "    if column!='TypeOfDwellingCd' or column!='MeterLocation' or column!='PipingConstructionMaterialCd' or column!='MeterConstructionMaterialCd' or column!='MainAndBranchService' or column!='FittingsConstructionMaterialCd':\n",
    "        new_df[column] = new_df[column].replace(mapping)\n",
    "    \n",
    "new_df = new_df[first_df['OutsideSet']!='YES']\n",
    "\n",
    "new_df = new_df[first_df['BuildingAccessible']!='NO']\n",
    "\n",
    "#new_df = new_df.dropna(subset = ['BuildingAccessible'])\n",
    "    \n",
    "new_df.to_excel('new df trial48.xlsx', index=False)"
   ]
  },
  {
   "cell_type": "code",
   "execution_count": 106,
   "id": "01e3a431-c2ea-458b-96e8-0394a8df4b4b",
   "metadata": {
    "tags": []
   },
   "outputs": [
    {
     "name": "stdout",
     "output_type": "stream",
     "text": [
      "['COMMERCIAL' 'MULTIUNIT' 'SINGLE' 'INDUSTRIAL' 'OTHER']\n",
      "dict_keys(['SINGLE UNIT DWELLING', 'COMMERCIAL', 'MULTIUNIT', 'MULTI-UNIT RESIDENCE/DWEL', 'INDUSTRIAL', 'SINGLE'])\n"
     ]
    }
   ],
   "source": [
    "print(new_df['TypeOfDwellingCd'].unique())\n",
    "print(TypeOfDwellingCd_map.keys())"
   ]
  },
  {
   "cell_type": "code",
   "execution_count": null,
   "id": "666a9702-eac0-4ce8-a70f-acf6d34bb4a4",
   "metadata": {},
   "outputs": [],
   "source": []
  }
 ],
 "metadata": {
  "kernelspec": {
   "display_name": "Python 3 (ipykernel)",
   "language": "python",
   "name": "python3"
  },
  "language_info": {
   "codemirror_mode": {
    "name": "ipython",
    "version": 3
   },
   "file_extension": ".py",
   "mimetype": "text/x-python",
   "name": "python",
   "nbconvert_exporter": "python",
   "pygments_lexer": "ipython3",
   "version": "3.11.5"
  }
 },
 "nbformat": 4,
 "nbformat_minor": 5
}
