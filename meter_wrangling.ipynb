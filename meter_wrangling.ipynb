{
 "cells": [
  {
   "cell_type": "code",
   "execution_count": 1,
   "id": "9be59258-6955-4ad9-b168-dd306fb45263",
   "metadata": {
    "tags": []
   },
   "outputs": [
    {
     "name": "stdout",
     "output_type": "stream",
     "text": [
      "Note: you may need to restart the kernel to use updated packages.\n"
     ]
    }
   ],
   "source": [
    "pip install pandas -q"
   ]
  },
  {
   "cell_type": "code",
   "execution_count": 2,
   "id": "0b1de2f3-2e8a-43c8-955d-b82d4c64f28c",
   "metadata": {
    "tags": []
   },
   "outputs": [
    {
     "name": "stdout",
     "output_type": "stream",
     "text": [
      "Done\n"
     ]
    }
   ],
   "source": [
    "import pandas as pd\n",
    "\n",
    "raw_data = pd.read_excel('storti data.xlsx')\n",
    "\n",
    "column_mapping = { #from not standard to standard column names\n",
    "    'WR Number':'WR#',\n",
    "    'Meter Number':'MeterNumber',\n",
    "    'Accessible Customer':'Accessible',\n",
    "    'No Access Reason Cd Customer':'NoAccessReason',\n",
    "    'Corrosion Severity Cd Customer':'CorrosionSeverity',\n",
    "    'Meter Location':'MeterLocation',\n",
    "    'Meter Location Remarks':'MeterLocationRemarks'\n",
    "}\n",
    "\n",
    "dfs=[]\n",
    "\n",
    "# Iterate through each row in the raw data\n",
    "for index, row in raw_data.iterrows():\n",
    "    id_value = row['ID']    \n",
    "    \n",
    "    for meter_number_col, meter_location_col in zip(raw_data.filter(like='Meter Number').columns,\n",
    "                                                    raw_data.filter(like='Meter Location').columns,):\n",
    "        meter_numbers_list = str(row[meter_number_col]).split(',')\n",
    "        meter_location_list = str(row[meter_location_col]).split(',')\n",
    "    \n",
    "        data_dict = { #this is standardized columns and their respective values\n",
    "            'ID': id_value,\n",
    "            'Accessible': 'YES',\n",
    "            'CorrosionSeverity': row['Corrosion Severity Cd Customer'],\n",
    "            'Meter Number': meter_numbers_list,\n",
    "            'Meter Location': meter_location_list,\n",
    "            'MeterValvePositionFound':'ON',\n",
    "            'MeterValvePositionLeft':'ON',\n",
    "            'Accessible Customer':'YES',\n",
    "            'Active':'YES',\n",
    "            'Remarks':'INGESTION',\n",
    "        }\n",
    "        dfs.append(pd.DataFrame([data_dict]))\n",
    "\n",
    "standardized_data = pd.concat(dfs, ignore_index=True).dropna(subset=\"Meter Number\")\n",
    "\n",
    "standardized_data = standardized_data.explode('Meter Number').explode('Meter Location')\n",
    "standardized_data.to_excel('standardized_storti_data.xlsx', index=False)\n",
    "print('Done')"
   ]
  },
  {
   "cell_type": "code",
   "execution_count": null,
   "id": "e6062bd5-fa4c-4f2f-a080-70bacfbc35e3",
   "metadata": {
    "tags": []
   },
   "outputs": [],
   "source": [
    "import pandas as pd\n",
    "\n",
    "raw_data = pd.read_excel('storti data.xlsx')\n",
    "\n",
    "column_mapping = {\n",
    "    'WR Number':'WR#',\n",
    "    'Meter Number':'MeterNumber',\n",
    "    'Accessible Customer':'Accessible',\n",
    "    'No Access Reason Cd Customer':'NoAccessReason',\n",
    "    'Corrosion Severity Cd Customer':'CorrosionSeverity',\n",
    "    'Meter Location':'MeterLocation',\n",
    "    'Meter Location Remarks':'MeterLocationRemarks'\n",
    "}\n",
    "\n",
    "dfs=[]\n",
    "\n",
    "for index, row in raw_data.iterrows():\n",
    "    id_value = row['ID']    \n",
    "    \n",
    "    for meter_number_col, meter_location_col in zip(raw_data.filter(like='Meter Number').columns,\n",
    "                                                    raw_data.filter(like='Meter Location').columns,):\n",
    "        meter_numbers_list = str(row[meter_number_col]).split(',')\n",
    "        meter_location_list = str(row[meter_location_col]).split(',')\n",
    "        \n",
    "        meter_numbers_list = str(row[meter_number] if not pd.isna(meter_number) else '' for meter_number in meter_numbers_list)\n",
    "        meter_locations_list = str(row[meter_location] if not pd.isna(meter_location) else '' for meter_location in meter_locations_list)\n",
    "        \n",
    "        data_dict = [\n",
    "            {\n",
    "                'ID': id_value,\n",
    "                'Accessible': 'YES',\n",
    "                'CorrosionSeverity': row['Corrosion Severity Cd Customer'],\n",
    "                'Meter Number': meter_numbers_list,\n",
    "                'Meter Location': meter_location_list,\n",
    "                'MeterValvePositionFound':'ON',\n",
    "                'MeterValvePositionLeft':'ON',\n",
    "                'Accessible Customer':'YES',\n",
    "                'Active':'YES',\n",
    "                'Remarks':'INGESTION',\n",
    "            }\n",
    "            for meter_number, meter_location in zip(meter_numbers_list,meter_locations_list)\n",
    "        ]\n",
    "        dfs.extend(data_dict)\n",
    "        #dfs.append(pd.DataFrame([data_dict]))\n",
    "\n",
    "standardized_data = pd.DataFrame(dfs).dropna()\n",
    "# standardized_data = pd.concat(dfs, ignore_index=True)\n",
    "# standardized_data = standardized_data.dropna()\n",
    "# standardized_data = standardized_data.explode('Meter Number').explode('Meter Location')\n",
    "# Write the standardized data to a new Excel file\n",
    "standardized_data.to_excel('standardized_storti_data.xlsx', index=False)"
   ]
  },
  {
   "cell_type": "code",
   "execution_count": null,
   "id": "fb2bcb05-0d19-423e-a856-a571270df058",
   "metadata": {},
   "outputs": [],
   "source": []
  }
 ],
 "metadata": {
  "kernelspec": {
   "display_name": "Python 3 (ipykernel)",
   "language": "python",
   "name": "python3"
  },
  "language_info": {
   "codemirror_mode": {
    "name": "ipython",
    "version": 3
   },
   "file_extension": ".py",
   "mimetype": "text/x-python",
   "name": "python",
   "nbconvert_exporter": "python",
   "pygments_lexer": "ipython3",
   "version": "3.11.5"
  }
 },
 "nbformat": 4,
 "nbformat_minor": 5
}
