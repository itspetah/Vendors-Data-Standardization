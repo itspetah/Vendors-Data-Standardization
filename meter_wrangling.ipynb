{
 "cells": [
  {
   "cell_type": "code",
   "execution_count": 2,
   "id": "0b1de2f3-2e8a-43c8-955d-b82d4c64f28c",
   "metadata": {
    "tags": []
   },
   "outputs": [
    {
     "name": "stdout",
     "output_type": "stream",
     "text": [
      "Done\n"
     ]
    }
   ],
   "source": [
    "import pandas as pd\n",
    "import numpy as np\n",
    "\n",
    "raw_data = pd.read_excel('storti data.xlsx')\n",
    "\n",
    "column_mapping = { #from not standard to standard column names\n",
    "    'WR Number':'WR#',\n",
    "    'Meter Number':'MeterNumber',\n",
    "    'Accessible Customer':'Accessible',\n",
    "    'No Access Reason Cd Customer':'NoAccessReason',\n",
    "    'Corrosion Severity Cd Customer':'CorrosionSeverity',\n",
    "    'Meter Location':'MeterLocation',\n",
    "    'Meter Location Remarks':'MeterLocationRemarks'\n",
    "}\n",
    "\n",
    "dfs=[]\n",
    "\n",
    "for index, row in raw_data.iterrows():\n",
    "    id_value = row['ID']    \n",
    "    \n",
    "    for meter_number_col, meter_location_col in zip(raw_data.filter(like='Meter Number').columns,\n",
    "                                                    raw_data.filter(like='Meter Location').columns,):\n",
    "        meter_numbers_list = str(row[meter_number_col]).split(',')\n",
    "        meter_location_list = str(row[meter_location_col]).split(',')\n",
    "    \n",
    "        data_dict = { #this is standardized columns and their respective values\n",
    "            'ID': id_value,\n",
    "            'Accessible': 'YES',\n",
    "            'CorrosionSeverity': row['Corrosion Severity Cd Customer'],\n",
    "            'Meter Number': meter_numbers_list,\n",
    "            'Meter Location': meter_location_list,\n",
    "            'MeterValvePositionFound':'ON',\n",
    "            'MeterValvePositionLeft':'ON',\n",
    "            'Accessible Customer':'YES',\n",
    "            'Active':'YES',\n",
    "            'Remarks':'INGESTION',\n",
    "        }\n",
    "        dfs.append(pd.DataFrame([data_dict]))\n",
    "\n",
    "standardized_data = pd.concat(dfs, ignore_index=True).dropna(subset=[\"Meter Number\",\"Meter Location\"])\n",
    "\n",
    "standardized_data = standardized_data.explode('Meter Number').explode('Meter Location')\n",
    "standardized_data.to_excel('standardized_storti_data.xlsx', index=False)\n",
    "print('Done')"
   ]
  }
 ],
 "metadata": {
  "kernelspec": {
   "display_name": "Python 3 (ipykernel)",
   "language": "python",
   "name": "python3"
  },
  "language_info": {
   "codemirror_mode": {
    "name": "ipython",
    "version": 3
   },
   "file_extension": ".py",
   "mimetype": "text/x-python",
   "name": "python",
   "nbconvert_exporter": "python",
   "pygments_lexer": "ipython3",
   "version": "3.11.5"
  }
 },
 "nbformat": 4,
 "nbformat_minor": 5
}
