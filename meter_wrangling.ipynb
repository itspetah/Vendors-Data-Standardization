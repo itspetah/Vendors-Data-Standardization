{
 "cells": [
  {
   "cell_type": "code",
   "execution_count": null,
   "id": "9be59258-6955-4ad9-b168-dd306fb45263",
   "metadata": {
    "tags": []
   },
   "outputs": [],
   "source": [
    "pip install pandas"
   ]
  },
  {
   "cell_type": "code",
   "execution_count": 63,
   "id": "0b1de2f3-2e8a-43c8-955d-b82d4c64f28c",
   "metadata": {
    "tags": []
   },
   "outputs": [
    {
     "name": "stdout",
     "output_type": "stream",
     "text": [
      "Done\n"
     ]
    }
   ],
   "source": [
    "import pandas as pd\n",
    "\n",
    "# Load the raw data\n",
    "raw_data = pd.read_excel('storti data.xlsx')\n",
    "\n",
    "# Create a dictionary to map raw column names to standardized column names\n",
    "column_mapping = {\n",
    "    'WR Number':'WR#',\n",
    "    'Meter Number':'MeterNumber',\n",
    "    'Accessible Customer':'Accessible',\n",
    "    'No Access Reason Cd Customer':'NoAccessReason',\n",
    "    'Corrosion Severity Cd Customer':'CorrosionSeverity',\n",
    "    'Meter Location':'MeterLocation',\n",
    "    'Meter Location Remarks':'MeterLocationRemarks'\n",
    "}\n",
    "\n",
    "dfs=[]\n",
    "\n",
    "# Iterate through each row in the raw data\n",
    "for index, row in raw_data.iterrows():\n",
    "    # Extract relevant information from the row\n",
    "    id_value = row['ID']    \n",
    "    \n",
    "    for meter_number_col, meter_location_col in zip(raw_data.filter(like='Meter Number').columns,\n",
    "                                                    raw_data.filter(like='Meter Location').columns,):\n",
    "        # Split multiple Meter Numbers and Meter Locations into lists\n",
    "        meter_numbers_list = str(row[meter_number_col]).split(',')\n",
    "        meter_location_list = str(row[meter_location_col]).split(',')\n",
    "    \n",
    "        # Create a dictionary with standardized column names and values\n",
    "        data_dict = {\n",
    "            'ID': id_value,\n",
    "            'Accessible': 'YES',\n",
    "            'CorrosionSeverity': row['Corrosion Severity Cd Customer'],\n",
    "            'Meter Number': meter_numbers_list,\n",
    "            'Meter Location': meter_location_list,\n",
    "            'MeterValvePositionFound':'ON',\n",
    "            'MeterValvePositionLeft':'ON',\n",
    "            'Accessible Customer':'YES',\n",
    "            'Active':'YES',\n",
    "            'Remarks':'INGESTION',\n",
    "        }\n",
    "        dfs.append(pd.DataFrame([data_dict]))\n",
    "\n",
    "# Add a row to the standardized data DataFrame\n",
    "standardized_data = pd.concat(dfs, ignore_index=True).dropna(subset=\"Meter Number\")\n",
    "\n",
    "standardized_data = standardized_data.explode('Meter Number').explode('Meter Location')\n",
    "# Write the standardized data to a new Excel file\n",
    "standardized_data.to_excel('standardized_storti_data.xlsx', index=False)\n",
    "print('Done')"
   ]
  },
  {
   "cell_type": "code",
   "execution_count": 62,
   "id": "e6062bd5-fa4c-4f2f-a080-70bacfbc35e3",
   "metadata": {
    "tags": []
   },
   "outputs": [
    {
     "ename": "ValueError",
     "evalue": "This sheet is too large! Your sheet size is: 1777300, 10 Max sheet size is: 1048576, 16384",
     "output_type": "error",
     "traceback": [
      "\u001b[1;31m---------------------------------------------------------------------------\u001b[0m",
      "\u001b[1;31mValueError\u001b[0m                                Traceback (most recent call last)",
      "Cell \u001b[1;32mIn[62], line 58\u001b[0m\n\u001b[0;32m     53\u001b[0m standardized_data \u001b[38;5;241m=\u001b[39m pd\u001b[38;5;241m.\u001b[39mDataFrame(dfs)\u001b[38;5;241m.\u001b[39mdropna()\n\u001b[0;32m     54\u001b[0m \u001b[38;5;66;03m# standardized_data = pd.concat(dfs, ignore_index=True)\u001b[39;00m\n\u001b[0;32m     55\u001b[0m \u001b[38;5;66;03m# standardized_data = standardized_data.dropna()\u001b[39;00m\n\u001b[0;32m     56\u001b[0m \u001b[38;5;66;03m# standardized_data = standardized_data.explode('Meter Number').explode('Meter Location')\u001b[39;00m\n\u001b[0;32m     57\u001b[0m \u001b[38;5;66;03m# Write the standardized data to a new Excel file\u001b[39;00m\n\u001b[1;32m---> 58\u001b[0m standardized_data\u001b[38;5;241m.\u001b[39mto_excel(\u001b[38;5;124m'\u001b[39m\u001b[38;5;124mstandardized_storti_data.xlsx\u001b[39m\u001b[38;5;124m'\u001b[39m, index\u001b[38;5;241m=\u001b[39m\u001b[38;5;28;01mFalse\u001b[39;00m)\n",
      "File \u001b[1;32m~\\AppData\\Local\\anaconda3\\Lib\\site-packages\\pandas\\core\\generic.py:2252\u001b[0m, in \u001b[0;36mNDFrame.to_excel\u001b[1;34m(self, excel_writer, sheet_name, na_rep, float_format, columns, header, index, index_label, startrow, startcol, engine, merge_cells, inf_rep, freeze_panes, storage_options)\u001b[0m\n\u001b[0;32m   2239\u001b[0m \u001b[38;5;28;01mfrom\u001b[39;00m \u001b[38;5;21;01mpandas\u001b[39;00m\u001b[38;5;21;01m.\u001b[39;00m\u001b[38;5;21;01mio\u001b[39;00m\u001b[38;5;21;01m.\u001b[39;00m\u001b[38;5;21;01mformats\u001b[39;00m\u001b[38;5;21;01m.\u001b[39;00m\u001b[38;5;21;01mexcel\u001b[39;00m \u001b[38;5;28;01mimport\u001b[39;00m ExcelFormatter\n\u001b[0;32m   2241\u001b[0m formatter \u001b[38;5;241m=\u001b[39m ExcelFormatter(\n\u001b[0;32m   2242\u001b[0m     df,\n\u001b[0;32m   2243\u001b[0m     na_rep\u001b[38;5;241m=\u001b[39mna_rep,\n\u001b[1;32m   (...)\u001b[0m\n\u001b[0;32m   2250\u001b[0m     inf_rep\u001b[38;5;241m=\u001b[39minf_rep,\n\u001b[0;32m   2251\u001b[0m )\n\u001b[1;32m-> 2252\u001b[0m formatter\u001b[38;5;241m.\u001b[39mwrite(\n\u001b[0;32m   2253\u001b[0m     excel_writer,\n\u001b[0;32m   2254\u001b[0m     sheet_name\u001b[38;5;241m=\u001b[39msheet_name,\n\u001b[0;32m   2255\u001b[0m     startrow\u001b[38;5;241m=\u001b[39mstartrow,\n\u001b[0;32m   2256\u001b[0m     startcol\u001b[38;5;241m=\u001b[39mstartcol,\n\u001b[0;32m   2257\u001b[0m     freeze_panes\u001b[38;5;241m=\u001b[39mfreeze_panes,\n\u001b[0;32m   2258\u001b[0m     engine\u001b[38;5;241m=\u001b[39mengine,\n\u001b[0;32m   2259\u001b[0m     storage_options\u001b[38;5;241m=\u001b[39mstorage_options,\n\u001b[0;32m   2260\u001b[0m )\n",
      "File \u001b[1;32m~\\AppData\\Local\\anaconda3\\Lib\\site-packages\\pandas\\io\\formats\\excel.py:923\u001b[0m, in \u001b[0;36mExcelFormatter.write\u001b[1;34m(self, writer, sheet_name, startrow, startcol, freeze_panes, engine, storage_options)\u001b[0m\n\u001b[0;32m    921\u001b[0m num_rows, num_cols \u001b[38;5;241m=\u001b[39m \u001b[38;5;28mself\u001b[39m\u001b[38;5;241m.\u001b[39mdf\u001b[38;5;241m.\u001b[39mshape\n\u001b[0;32m    922\u001b[0m \u001b[38;5;28;01mif\u001b[39;00m num_rows \u001b[38;5;241m>\u001b[39m \u001b[38;5;28mself\u001b[39m\u001b[38;5;241m.\u001b[39mmax_rows \u001b[38;5;129;01mor\u001b[39;00m num_cols \u001b[38;5;241m>\u001b[39m \u001b[38;5;28mself\u001b[39m\u001b[38;5;241m.\u001b[39mmax_cols:\n\u001b[1;32m--> 923\u001b[0m     \u001b[38;5;28;01mraise\u001b[39;00m \u001b[38;5;167;01mValueError\u001b[39;00m(\n\u001b[0;32m    924\u001b[0m         \u001b[38;5;124mf\u001b[39m\u001b[38;5;124m\"\u001b[39m\u001b[38;5;124mThis sheet is too large! Your sheet size is: \u001b[39m\u001b[38;5;132;01m{\u001b[39;00mnum_rows\u001b[38;5;132;01m}\u001b[39;00m\u001b[38;5;124m, \u001b[39m\u001b[38;5;132;01m{\u001b[39;00mnum_cols\u001b[38;5;132;01m}\u001b[39;00m\u001b[38;5;124m \u001b[39m\u001b[38;5;124m\"\u001b[39m\n\u001b[0;32m    925\u001b[0m         \u001b[38;5;124mf\u001b[39m\u001b[38;5;124m\"\u001b[39m\u001b[38;5;124mMax sheet size is: \u001b[39m\u001b[38;5;132;01m{\u001b[39;00m\u001b[38;5;28mself\u001b[39m\u001b[38;5;241m.\u001b[39mmax_rows\u001b[38;5;132;01m}\u001b[39;00m\u001b[38;5;124m, \u001b[39m\u001b[38;5;132;01m{\u001b[39;00m\u001b[38;5;28mself\u001b[39m\u001b[38;5;241m.\u001b[39mmax_cols\u001b[38;5;132;01m}\u001b[39;00m\u001b[38;5;124m\"\u001b[39m\n\u001b[0;32m    926\u001b[0m     )\n\u001b[0;32m    928\u001b[0m formatted_cells \u001b[38;5;241m=\u001b[39m \u001b[38;5;28mself\u001b[39m\u001b[38;5;241m.\u001b[39mget_formatted_cells()\n\u001b[0;32m    929\u001b[0m \u001b[38;5;28;01mif\u001b[39;00m \u001b[38;5;28misinstance\u001b[39m(writer, ExcelWriter):\n",
      "\u001b[1;31mValueError\u001b[0m: This sheet is too large! Your sheet size is: 1777300, 10 Max sheet size is: 1048576, 16384"
     ]
    }
   ],
   "source": [
    "import pandas as pd\n",
    "\n",
    "# Load the raw data\n",
    "raw_data = pd.read_excel('storti data.xlsx')\n",
    "\n",
    "# Create a dictionary to map raw column names to standardized column names\n",
    "column_mapping = {\n",
    "    'WR Number':'WR#',\n",
    "    'Meter Number':'MeterNumber',\n",
    "    'Accessible Customer':'Accessible',\n",
    "    'No Access Reason Cd Customer':'NoAccessReason',\n",
    "    'Corrosion Severity Cd Customer':'CorrosionSeverity',\n",
    "    'Meter Location':'MeterLocation',\n",
    "    'Meter Location Remarks':'MeterLocationRemarks'\n",
    "}\n",
    "\n",
    "dfs=[]\n",
    "\n",
    "# Iterate through each row in the raw data\n",
    "for index, row in raw_data.iterrows():\n",
    "    # Extract relevant information from the row\n",
    "    id_value = row['ID']    \n",
    "    \n",
    "    for meter_number_col, meter_location_col in zip(raw_data.filter(like='Meter Number').columns,\n",
    "                                                    raw_data.filter(like='Meter Location').columns,):\n",
    "        # Split multiple Meter Numbers and Meter Locations into lists\n",
    "        meter_numbers_list = str(row[meter_number_col]).split(',')\n",
    "        meter_location_list = str(row[meter_location_col]).split(',')\n",
    "        \n",
    "        meter_numbers_list = str(row[meter_number] if not pd.isna(meter_number) else '' for meter_number in meter_numbers_list)\n",
    "        meter_locations_list = str(row[meter_location] if not pd.isna(meter_location) else '' for meter_location in meter_locations_list)\n",
    "        \n",
    "        \n",
    "        # Create a dictionary with standardized column names and values\n",
    "        data_dict = [\n",
    "            {\n",
    "                'ID': id_value,\n",
    "                'Accessible': 'YES',\n",
    "                'CorrosionSeverity': row['Corrosion Severity Cd Customer'],\n",
    "                'Meter Number': meter_numbers_list,\n",
    "                'Meter Location': meter_location_list,\n",
    "                'MeterValvePositionFound':'ON',\n",
    "                'MeterValvePositionLeft':'ON',\n",
    "                'Accessible Customer':'YES',\n",
    "                'Active':'YES',\n",
    "                'Remarks':'INGESTION',\n",
    "            }\n",
    "            for meter_number, meter_location in zip(meter_numbers_list,meter_locations_list)\n",
    "        ]\n",
    "        dfs.extend(data_dict)\n",
    "        #dfs.append(pd.DataFrame([data_dict]))\n",
    "\n",
    "standardized_data = pd.DataFrame(dfs).dropna()\n",
    "# standardized_data = pd.concat(dfs, ignore_index=True)\n",
    "# standardized_data = standardized_data.dropna()\n",
    "# standardized_data = standardized_data.explode('Meter Number').explode('Meter Location')\n",
    "# Write the standardized data to a new Excel file\n",
    "standardized_data.to_excel('standardized_storti_data.xlsx', index=False)"
   ]
  },
  {
   "cell_type": "code",
   "execution_count": null,
   "id": "fb2bcb05-0d19-423e-a856-a571270df058",
   "metadata": {},
   "outputs": [],
   "source": []
  }
 ],
 "metadata": {
  "kernelspec": {
   "display_name": "Python 3 (ipykernel)",
   "language": "python",
   "name": "python3"
  },
  "language_info": {
   "codemirror_mode": {
    "name": "ipython",
    "version": 3
   },
   "file_extension": ".py",
   "mimetype": "text/x-python",
   "name": "python",
   "nbconvert_exporter": "python",
   "pygments_lexer": "ipython3",
   "version": "3.11.5"
  }
 },
 "nbformat": 4,
 "nbformat_minor": 5
}
