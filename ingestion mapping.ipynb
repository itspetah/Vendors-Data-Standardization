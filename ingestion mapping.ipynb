{
 "cells": [
  {
   "cell_type": "code",
   "execution_count": 13,
   "id": "9f6a5dda-fef8-4f4c-aa5b-e78510157ff5",
   "metadata": {},
   "outputs": [
    {
     "name": "stdout",
     "output_type": "stream",
     "text": [
      "Requirement already satisfied: pandas in c:\\users\\wangp\\appdata\\local\\anaconda3\\lib\\site-packages (2.0.3)\n",
      "Requirement already satisfied: python-dateutil>=2.8.2 in c:\\users\\wangp\\appdata\\local\\anaconda3\\lib\\site-packages (from pandas) (2.8.2)\n",
      "Requirement already satisfied: pytz>=2020.1 in c:\\users\\wangp\\appdata\\local\\anaconda3\\lib\\site-packages (from pandas) (2023.3.post1)\n",
      "Requirement already satisfied: tzdata>=2022.1 in c:\\users\\wangp\\appdata\\local\\anaconda3\\lib\\site-packages (from pandas) (2023.3)\n",
      "Requirement already satisfied: numpy>=1.21.0 in c:\\users\\wangp\\appdata\\local\\anaconda3\\lib\\site-packages (from pandas) (1.24.3)\n",
      "Requirement already satisfied: six>=1.5 in c:\\users\\wangp\\appdata\\local\\anaconda3\\lib\\site-packages (from python-dateutil>=2.8.2->pandas) (1.16.0)\n",
      "Could not fetch URL https://pypi.org/simple/pip/: There was a problem confirming the ssl certificate: HTTPSConnectionPool(host='pypi.org', port=443): Max retries exceeded with url: /simple/pip/ (Caused by SSLError(SSLCertVerificationError(1, '[SSL: CERTIFICATE_VERIFY_FAILED] certificate verify failed: unable to get local issuer certificate (_ssl.c:1006)'))) - skipping\n"
     ]
    }
   ],
   "source": [
    "!pip install pandas"
   ]
  },
  {
   "cell_type": "code",
   "execution_count": null,
   "id": "424f2284-e8f6-4859-ba6a-ce31012f08b7",
   "metadata": {
    "tags": []
   },
   "outputs": [],
   "source": [
    "import pandas as pd\n",
    "\n",
    "# file with default values\n",
    "mapping_df = pd.read_excel(\"Ingestion Mapping.xlsx\", sheet_name = 'Default Mapping 4 All')\n",
    "\n",
    "#file to be converted/normalized/validated\n",
    "database_df = pd.read_excel(\"Reconn SLI Field Inspection 1016-1031 (1).xlsx\")\n",
    "\n",
    "#conversion for case-insensitive\n",
    "mapping_df['default values'] = mapping_df['default values'].astype(str).str.lower()\n",
    "\n",
    "print(\"Database column names:\", database_df.columns)\n",
    "\n",
    "# read through every row(data) in the database_df\n",
    "for index, row in database_df.iterrows():\n",
    "    for mapping_index, mapping_row in mapping_df.iterrows():\n",
    "        column_name = mapping_row['column name']\n",
    "        try:\n",
    "            value_from_db = str(row[column_name])\n",
    "        except KeyError:\n",
    "            print(f\"KeyError: Column '{column_name}' not found in the database Dataframe.\")\n",
    "            continue\n",
    "            \n",
    "        value_from_db = str(row[mapping_row['column name']])\n",
    "        \n",
    "        #get matching for each column\n",
    "        #mapping_row = database[(mapping_df['column name']==column)& (mapping_df['normalized name']==row['normalized name'])]\n",
    "\n",
    "        #check if values in database matches values in mapping_df\n",
    "        if  value_from_db.lower() in mapping_row['default values']:\n",
    "            if 'priority' in mapping_row and not pd.isna(mapping_row['priority']):\n",
    "                highest_priority = mapping_df.loc[mapping_df['column name'] == mapping_row['column name'], 'priority'].min()   \n",
    "                default_value = mapping_df.loc[(mapping_df['column name']==mapping_df['column name'])&(mapping_df['priority']==highest_priority),'default values'].iloc[0]                                 \n",
    "            #fetches  the default value with highest prio\n",
    "            else:\n",
    "                default_value = mapping_row['default values']\n",
    "\n",
    "            database_df.at[index,mapping_row['column name']] = default_value\n",
    "\n",
    "#save to new file\n",
    "database_df.to_excel('updated_database_recon.xlsx', index = False)"
   ]
  },
  {
   "cell_type": "code",
   "execution_count": 22,
   "id": "2068b81c-0287-4238-b02c-5ef40b7a33b4",
   "metadata": {
    "tags": []
   },
   "outputs": [
    {
     "name": "stdout",
     "output_type": "stream",
     "text": [
      "Index(['column name', 'normalized name', 'default values', 'priority'], dtype='object')\n",
      "Index(['_record_id', '_status', '_title', '_version', '_server_created_at',\n",
      "       '_server_updated_at', '_assigned_to', '_updated_by', '_geometry',\n",
      "       '_latitude',\n",
      "       ...\n",
      "       'gas_odor_present', 'cgi_reading_gas', 'leak_ticket_', 'leaking_items',\n",
      "       'leak_related_to_corrosion', 'remarks5', 'concurrent_meter_inspections',\n",
      "       'poe_photos', 'meter_inspection_photos',\n",
      "       'highest_level_of_corrosion_photo'],\n",
      "      dtype='object', length=126)\n"
     ]
    }
   ],
   "source": [
    "print(mapping_df.columns)\n",
    "print(database_df.columns)"
   ]
  },
  {
   "cell_type": "code",
   "execution_count": null,
   "id": "19b4816e-0392-4d80-89a7-762949764f63",
   "metadata": {},
   "outputs": [],
   "source": []
  }
 ],
 "metadata": {
  "kernelspec": {
   "display_name": "Python 3 (ipykernel)",
   "language": "python",
   "name": "python3"
  },
  "language_info": {
   "codemirror_mode": {
    "name": "ipython",
    "version": 3
   },
   "file_extension": ".py",
   "mimetype": "text/x-python",
   "name": "python",
   "nbconvert_exporter": "python",
   "pygments_lexer": "ipython3",
   "version": "3.11.5"
  }
 },
 "nbformat": 4,
 "nbformat_minor": 5
}
